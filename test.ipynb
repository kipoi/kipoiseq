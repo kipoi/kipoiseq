{
 "cells": [
  {
   "cell_type": "markdown",
   "id": "invisible-wrist",
   "metadata": {},
   "source": [
    "# Anchored string seq dl dataloader"
   ]
  },
  {
   "cell_type": "code",
   "execution_count": 1,
   "id": "informational-proposition",
   "metadata": {},
   "outputs": [],
   "source": [
    "from importlib import reload\n",
    "import urllib.request\n",
    "import gzip\n",
    "import shutil\n",
    "import pyranges as pr\n",
    "from kipoiseq.dataloaders.sequence import AnchoredGTFDl\n",
    "from kipoiseq.transforms.functional import one_hot_dna"
   ]
  },
  {
   "cell_type": "markdown",
   "id": "suspended-student",
   "metadata": {},
   "source": [
    "## Get model and data"
   ]
  },
  {
   "cell_type": "code",
   "execution_count": 2,
   "id": "cooperative-dream",
   "metadata": {},
   "outputs": [
    {
     "name": "stdout",
     "output_type": "stream",
     "text": [
      "Using downloaded and verified file: /data/ouga04b/ag_gagneur/home/karollus/.kipoi/github-permalink/kipoi/models/master/Xpresso/downloaded/model_files/human_median/weights/9d00a3bc614da81655328b6e278569e2\n"
     ]
    },
    {
     "name": "stderr",
     "output_type": "stream",
     "text": [
      "Using TensorFlow backend.\n",
      "/opt/modules/i12g/anaconda/envs/kipoi-Framepool2/lib/python3.6/site-packages/tensorflow/python/framework/dtypes.py:526: FutureWarning: Passing (type, 1) or '1type' as a synonym of type is deprecated; in a future version of numpy, it will be understood as (type, (1,)) / '(1,)type'.\n",
      "  _np_qint8 = np.dtype([(\"qint8\", np.int8, 1)])\n",
      "/opt/modules/i12g/anaconda/envs/kipoi-Framepool2/lib/python3.6/site-packages/tensorflow/python/framework/dtypes.py:527: FutureWarning: Passing (type, 1) or '1type' as a synonym of type is deprecated; in a future version of numpy, it will be understood as (type, (1,)) / '(1,)type'.\n",
      "  _np_quint8 = np.dtype([(\"quint8\", np.uint8, 1)])\n",
      "/opt/modules/i12g/anaconda/envs/kipoi-Framepool2/lib/python3.6/site-packages/tensorflow/python/framework/dtypes.py:528: FutureWarning: Passing (type, 1) or '1type' as a synonym of type is deprecated; in a future version of numpy, it will be understood as (type, (1,)) / '(1,)type'.\n",
      "  _np_qint16 = np.dtype([(\"qint16\", np.int16, 1)])\n",
      "/opt/modules/i12g/anaconda/envs/kipoi-Framepool2/lib/python3.6/site-packages/tensorflow/python/framework/dtypes.py:529: FutureWarning: Passing (type, 1) or '1type' as a synonym of type is deprecated; in a future version of numpy, it will be understood as (type, (1,)) / '(1,)type'.\n",
      "  _np_quint16 = np.dtype([(\"quint16\", np.uint16, 1)])\n",
      "/opt/modules/i12g/anaconda/envs/kipoi-Framepool2/lib/python3.6/site-packages/tensorflow/python/framework/dtypes.py:530: FutureWarning: Passing (type, 1) or '1type' as a synonym of type is deprecated; in a future version of numpy, it will be understood as (type, (1,)) / '(1,)type'.\n",
      "  _np_qint32 = np.dtype([(\"qint32\", np.int32, 1)])\n",
      "/opt/modules/i12g/anaconda/envs/kipoi-Framepool2/lib/python3.6/site-packages/tensorflow/python/framework/dtypes.py:535: FutureWarning: Passing (type, 1) or '1type' as a synonym of type is deprecated; in a future version of numpy, it will be understood as (type, (1,)) / '(1,)type'.\n",
      "  np_resource = np.dtype([(\"resource\", np.ubyte, 1)])\n"
     ]
    },
    {
     "name": "stdout",
     "output_type": "stream",
     "text": [
      "WARNING:tensorflow:From /opt/modules/i12g/anaconda/envs/kipoi-Framepool2/lib/python3.6/site-packages/tensorflow/python/framework/op_def_library.py:263: colocate_with (from tensorflow.python.framework.ops) is deprecated and will be removed in a future version.\n",
      "Instructions for updating:\n",
      "Colocations handled automatically by placer.\n",
      "WARNING:tensorflow:From /opt/modules/i12g/anaconda/envs/kipoi-Framepool2/lib/python3.6/site-packages/keras/backend/tensorflow_backend.py:3445: calling dropout (from tensorflow.python.ops.nn_ops) with keep_prob is deprecated and will be removed in a future version.\n",
      "Instructions for updating:\n",
      "Please use `rate` instead of `keep_prob`. Rate should be set to `rate = 1 - keep_prob`.\n",
      "WARNING:tensorflow:From /opt/modules/i12g/anaconda/envs/kipoi-Framepool2/lib/python3.6/site-packages/tensorflow/python/ops/math_ops.py:3066: to_int32 (from tensorflow.python.ops.math_ops) is deprecated and will be removed in a future version.\n",
      "Instructions for updating:\n",
      "Use tf.cast instead.\n"
     ]
    },
    {
     "name": "stderr",
     "output_type": "stream",
     "text": [
      "/opt/modules/i12g/anaconda/envs/kipoi-Framepool2/lib/python3.6/site-packages/keras/engine/saving.py:327: UserWarning: Error in loading the saved optimizer state. As a result, your model is starting with a freshly initialized optimizer.\n",
      "  warnings.warn('Error in loading the saved optimizer '\n"
     ]
    }
   ],
   "source": [
    "import kipoi\n",
    "# Source model directly from directory\n",
    "model = kipoi.get_model(\"https://github.com/kipoi/models/tree/master/Xpresso/human_median\",\n",
    "    source='github-permalink')"
   ]
  },
  {
   "cell_type": "code",
   "execution_count": 3,
   "id": "indonesian-password",
   "metadata": {},
   "outputs": [
    {
     "data": {
      "text/plain": [
       "('chrom22.fa', <http.client.HTTPMessage at 0x150e4d683320>)"
      ]
     },
     "execution_count": 3,
     "metadata": {},
     "output_type": "execute_result"
    }
   ],
   "source": [
    "# Download GTF\n",
    "urllib.request.urlretrieve(\"https://zenodo.org/record/1466102/files/example_files-gencode.v24.annotation_chr22.gtf?download=1\", 'chrom22.gtf')\n",
    "# Download fasta\n",
    "urllib.request.urlretrieve(\"https://zenodo.org/record/1466102/files/example_files-hg38_chr22.fa?download=1\", 'chrom22.fa')"
   ]
  },
  {
   "cell_type": "markdown",
   "id": "solved-dictionary",
   "metadata": {},
   "source": [
    "## Build a TSS dataloader from the generic anchored GTF dataloader"
   ]
  },
  {
   "cell_type": "code",
   "execution_count": 3,
   "id": "contemporary-carolina",
   "metadata": {},
   "outputs": [],
   "source": [
    "class TSSDl(AnchoredGTFDl):\n",
    "    \n",
    "    def __init__(self, gtf_file, fasta_file, \n",
    "                 num_upstream, num_downstream,\n",
    "                 interval_attrs=[\"gene_id\", \"Strand\"],\n",
    "                 use_strand=True):\n",
    "        super().__init__(\n",
    "            gtf_file, fasta_file, \n",
    "            num_upstream, num_downstream,\n",
    "            gtf_filter = 'gene_type == \"protein_coding\"',\n",
    "            anchor = \"tss\",\n",
    "            transform = TSSDl._transform,\n",
    "            interval_attrs=[\"gene_id\", \"Strand\"],\n",
    "            use_strand=True\n",
    "        )\n",
    "    \n",
    "    @staticmethod    \n",
    "    def _transform(x):\n",
    "        return one_hot_dna(x)"
   ]
  },
  {
   "cell_type": "code",
   "execution_count": 4,
   "id": "blank-motorcycle",
   "metadata": {},
   "outputs": [
    {
     "name": "stderr",
     "output_type": "stream",
     "text": [
      "/data/nasif12/home_if12/karollus/kipoiseq/kipoiseq/dataloaders/sequence.py:506: SettingWithCopyWarning: \n",
      "A value is trying to be set on a copy of a slice from a DataFrame.\n",
      "Try using .loc[row_indexer,col_indexer] = value instead\n",
      "\n",
      "See the caveats in the documentation: https://pandas.pydata.org/pandas-docs/stable/user_guide/indexing.html#returning-a-view-versus-a-copy\n",
      "  + (gtf.End * (gtf.Strand == \"-\")))\n"
     ]
    }
   ],
   "source": [
    "tss = TSSDl(\"chrom22.gtf\", 'chrom22.fa', 7000, 3500)"
   ]
  },
  {
   "cell_type": "markdown",
   "id": "fourth-convention",
   "metadata": {},
   "source": [
    "## Test it"
   ]
  },
  {
   "cell_type": "code",
   "execution_count": 5,
   "id": "focused-palestine",
   "metadata": {},
   "outputs": [
    {
     "data": {
      "text/plain": [
       "{'inputs': array([[1.  , 0.  , 0.  , 0.  ],\n",
       "        [0.  , 0.  , 1.  , 0.  ],\n",
       "        [1.  , 0.  , 0.  , 0.  ],\n",
       "        ...,\n",
       "        [0.25, 0.25, 0.25, 0.25],\n",
       "        [0.25, 0.25, 0.25, 0.25],\n",
       "        [0.25, 0.25, 0.25, 0.25]]),\n",
       " 'metadata': {'gene_id': 'ENSG00000279973.1',\n",
       "  'Strand': '+',\n",
       "  'ranges': GenomicRanges(chr='chr22', start=11059500, end=11070000, id='0', strand='*')}}"
      ]
     },
     "execution_count": 5,
     "metadata": {},
     "output_type": "execute_result"
    }
   ],
   "source": [
    "tss[0]"
   ]
  },
  {
   "cell_type": "code",
   "execution_count": 6,
   "id": "religious-hospital",
   "metadata": {},
   "outputs": [],
   "source": [
    "it = tss.batch_iter(batch_size=1, shuffle=False, num_workers=0, drop_last=False)"
   ]
  },
  {
   "cell_type": "code",
   "execution_count": 7,
   "id": "acute-tract",
   "metadata": {},
   "outputs": [],
   "source": [
    "preds = [model.predict_on_batch(x[\"inputs\"]) for x in it]"
   ]
  },
  {
   "cell_type": "code",
   "execution_count": 8,
   "id": "painful-jacket",
   "metadata": {},
   "outputs": [
    {
     "data": {
      "text/plain": [
       "[{'expression_pred': array([-0.09770225], dtype=float32)},\n",
       " {'expression_pred': array([-1.0523579], dtype=float32)},\n",
       " {'expression_pred': array([-0.80665106], dtype=float32)},\n",
       " {'expression_pred': array([0.87220347], dtype=float32)},\n",
       " {'expression_pred': array([-0.90328634], dtype=float32)},\n",
       " {'expression_pred': array([-0.7358816], dtype=float32)},\n",
       " {'expression_pred': array([0.7559425], dtype=float32)},\n",
       " {'expression_pred': array([0.6989577], dtype=float32)},\n",
       " {'expression_pred': array([0.21766458], dtype=float32)},\n",
       " {'expression_pred': array([0.45246226], dtype=float32)},\n",
       " {'expression_pred': array([0.34520018], dtype=float32)},\n",
       " {'expression_pred': array([0.7672451], dtype=float32)},\n",
       " {'expression_pred': array([-1.060151], dtype=float32)},\n",
       " {'expression_pred': array([-1.0968332], dtype=float32)},\n",
       " {'expression_pred': array([0.9087679], dtype=float32)},\n",
       " {'expression_pred': array([0.97289217], dtype=float32)},\n",
       " {'expression_pred': array([0.51203346], dtype=float32)},\n",
       " {'expression_pred': array([-0.6153599], dtype=float32)},\n",
       " {'expression_pred': array([0.73175377], dtype=float32)},\n",
       " {'expression_pred': array([0.39859927], dtype=float32)},\n",
       " {'expression_pred': array([0.6118817], dtype=float32)},\n",
       " {'expression_pred': array([1.0500246], dtype=float32)},\n",
       " {'expression_pred': array([-0.62028575], dtype=float32)},\n",
       " {'expression_pred': array([-0.29687232], dtype=float32)},\n",
       " {'expression_pred': array([0.72136533], dtype=float32)},\n",
       " {'expression_pred': array([0.65536094], dtype=float32)},\n",
       " {'expression_pred': array([-0.97752863], dtype=float32)},\n",
       " {'expression_pred': array([0.8047589], dtype=float32)},\n",
       " {'expression_pred': array([1.0936142], dtype=float32)},\n",
       " {'expression_pred': array([0.5488869], dtype=float32)},\n",
       " {'expression_pred': array([0.23722811], dtype=float32)},\n",
       " {'expression_pred': array([-0.8480721], dtype=float32)},\n",
       " {'expression_pred': array([0.4124614], dtype=float32)},\n",
       " {'expression_pred': array([-0.44885713], dtype=float32)},\n",
       " {'expression_pred': array([1.0612049], dtype=float32)},\n",
       " {'expression_pred': array([-0.33271217], dtype=float32)},\n",
       " {'expression_pred': array([-0.14216854], dtype=float32)},\n",
       " {'expression_pred': array([1.0747994], dtype=float32)},\n",
       " {'expression_pred': array([0.83875227], dtype=float32)},\n",
       " {'expression_pred': array([-1.0642014], dtype=float32)},\n",
       " {'expression_pred': array([-0.67695886], dtype=float32)},\n",
       " {'expression_pred': array([-1.071794], dtype=float32)},\n",
       " {'expression_pred': array([0.7659692], dtype=float32)},\n",
       " {'expression_pred': array([-0.18371157], dtype=float32)},\n",
       " {'expression_pred': array([-0.63790655], dtype=float32)},\n",
       " {'expression_pred': array([-1.0092473], dtype=float32)},\n",
       " {'expression_pred': array([-0.7547488], dtype=float32)},\n",
       " {'expression_pred': array([0.6837365], dtype=float32)},\n",
       " {'expression_pred': array([0.88550395], dtype=float32)},\n",
       " {'expression_pred': array([-0.44534582], dtype=float32)},\n",
       " {'expression_pred': array([-0.44473338], dtype=float32)},\n",
       " {'expression_pred': array([0.5781581], dtype=float32)},\n",
       " {'expression_pred': array([0.78658086], dtype=float32)},\n",
       " {'expression_pred': array([0.7084168], dtype=float32)},\n",
       " {'expression_pred': array([-0.8276293], dtype=float32)},\n",
       " {'expression_pred': array([1.1220046], dtype=float32)},\n",
       " {'expression_pred': array([1.1216536], dtype=float32)},\n",
       " {'expression_pred': array([-0.8277965], dtype=float32)},\n",
       " {'expression_pred': array([-0.9308186], dtype=float32)},\n",
       " {'expression_pred': array([0.86099356], dtype=float32)},\n",
       " {'expression_pred': array([-1.0490454], dtype=float32)},\n",
       " {'expression_pred': array([0.6168717], dtype=float32)},\n",
       " {'expression_pred': array([0.6482187], dtype=float32)},\n",
       " {'expression_pred': array([-0.9669824], dtype=float32)},\n",
       " {'expression_pred': array([-1.0482349], dtype=float32)},\n",
       " {'expression_pred': array([0.7448592], dtype=float32)},\n",
       " {'expression_pred': array([0.56141084], dtype=float32)},\n",
       " {'expression_pred': array([-0.36426133], dtype=float32)},\n",
       " {'expression_pred': array([0.56456655], dtype=float32)},\n",
       " {'expression_pred': array([0.6797903], dtype=float32)},\n",
       " {'expression_pred': array([-0.8775581], dtype=float32)},\n",
       " {'expression_pred': array([0.8606933], dtype=float32)},\n",
       " {'expression_pred': array([0.9722375], dtype=float32)},\n",
       " {'expression_pred': array([1.0749135], dtype=float32)},\n",
       " {'expression_pred': array([0.70810634], dtype=float32)},\n",
       " {'expression_pred': array([0.5451194], dtype=float32)},\n",
       " {'expression_pred': array([1.1204389], dtype=float32)},\n",
       " {'expression_pred': array([0.71401787], dtype=float32)},\n",
       " {'expression_pred': array([-1.3710726], dtype=float32)},\n",
       " {'expression_pred': array([0.8061387], dtype=float32)},\n",
       " {'expression_pred': array([1.0510179], dtype=float32)},\n",
       " {'expression_pred': array([0.755858], dtype=float32)},\n",
       " {'expression_pred': array([0.7212146], dtype=float32)},\n",
       " {'expression_pred': array([0.9559618], dtype=float32)},\n",
       " {'expression_pred': array([0.48229897], dtype=float32)},\n",
       " {'expression_pred': array([0.79120785], dtype=float32)},\n",
       " {'expression_pred': array([0.18339607], dtype=float32)},\n",
       " {'expression_pred': array([-0.75028545], dtype=float32)},\n",
       " {'expression_pred': array([0.3791123], dtype=float32)},\n",
       " {'expression_pred': array([-0.72380334], dtype=float32)},\n",
       " {'expression_pred': array([0.540619], dtype=float32)},\n",
       " {'expression_pred': array([-0.16537796], dtype=float32)},\n",
       " {'expression_pred': array([-0.8632621], dtype=float32)},\n",
       " {'expression_pred': array([-0.8971263], dtype=float32)},\n",
       " {'expression_pred': array([0.92598826], dtype=float32)},\n",
       " {'expression_pred': array([0.6387655], dtype=float32)},\n",
       " {'expression_pred': array([0.7167834], dtype=float32)},\n",
       " {'expression_pred': array([-0.5123898], dtype=float32)},\n",
       " {'expression_pred': array([0.5656151], dtype=float32)},\n",
       " {'expression_pred': array([0.98296905], dtype=float32)},\n",
       " {'expression_pred': array([-0.9724967], dtype=float32)},\n",
       " {'expression_pred': array([-0.6819919], dtype=float32)},\n",
       " {'expression_pred': array([-1.067115], dtype=float32)},\n",
       " {'expression_pred': array([0.9555864], dtype=float32)},\n",
       " {'expression_pred': array([0.46413475], dtype=float32)},\n",
       " {'expression_pred': array([-1.4117689], dtype=float32)},\n",
       " {'expression_pred': array([0.7461256], dtype=float32)},\n",
       " {'expression_pred': array([-0.8875621], dtype=float32)},\n",
       " {'expression_pred': array([-1.1566471], dtype=float32)},\n",
       " {'expression_pred': array([1.094997], dtype=float32)},\n",
       " {'expression_pred': array([0.36492288], dtype=float32)},\n",
       " {'expression_pred': array([-1.042334], dtype=float32)},\n",
       " {'expression_pred': array([-1.3175672], dtype=float32)},\n",
       " {'expression_pred': array([-1.1727555], dtype=float32)},\n",
       " {'expression_pred': array([-1.1067038], dtype=float32)},\n",
       " {'expression_pred': array([-1.0233862], dtype=float32)},\n",
       " {'expression_pred': array([0.7281416], dtype=float32)},\n",
       " {'expression_pred': array([0.7554119], dtype=float32)},\n",
       " {'expression_pred': array([-0.864188], dtype=float32)},\n",
       " {'expression_pred': array([1.0196111], dtype=float32)},\n",
       " {'expression_pred': array([1.2167276], dtype=float32)},\n",
       " {'expression_pred': array([-0.90758497], dtype=float32)},\n",
       " {'expression_pred': array([0.997053], dtype=float32)},\n",
       " {'expression_pred': array([-0.31079698], dtype=float32)},\n",
       " {'expression_pred': array([-0.95433146], dtype=float32)},\n",
       " {'expression_pred': array([0.86223423], dtype=float32)},\n",
       " {'expression_pred': array([-0.01562212], dtype=float32)},\n",
       " {'expression_pred': array([1.0952864], dtype=float32)},\n",
       " {'expression_pred': array([0.61156946], dtype=float32)},\n",
       " {'expression_pred': array([-0.35564244], dtype=float32)},\n",
       " {'expression_pred': array([0.83992684], dtype=float32)},\n",
       " {'expression_pred': array([0.88024634], dtype=float32)},\n",
       " {'expression_pred': array([-0.14340599], dtype=float32)},\n",
       " {'expression_pred': array([-0.46474886], dtype=float32)},\n",
       " {'expression_pred': array([-0.608232], dtype=float32)},\n",
       " {'expression_pred': array([0.13063315], dtype=float32)},\n",
       " {'expression_pred': array([0.975047], dtype=float32)},\n",
       " {'expression_pred': array([1.0305411], dtype=float32)},\n",
       " {'expression_pred': array([0.6518883], dtype=float32)},\n",
       " {'expression_pred': array([-1.140518], dtype=float32)},\n",
       " {'expression_pred': array([-1.0304404], dtype=float32)},\n",
       " {'expression_pred': array([-1.1223097], dtype=float32)},\n",
       " {'expression_pred': array([-1.1252699], dtype=float32)},\n",
       " {'expression_pred': array([-0.9072042], dtype=float32)},\n",
       " {'expression_pred': array([-0.9991558], dtype=float32)},\n",
       " {'expression_pred': array([-0.97129077], dtype=float32)},\n",
       " {'expression_pred': array([0.78102934], dtype=float32)},\n",
       " {'expression_pred': array([0.7942251], dtype=float32)},\n",
       " {'expression_pred': array([0.8191331], dtype=float32)},\n",
       " {'expression_pred': array([-0.55506164], dtype=float32)},\n",
       " {'expression_pred': array([0.31733513], dtype=float32)},\n",
       " {'expression_pred': array([-0.790843], dtype=float32)},\n",
       " {'expression_pred': array([-0.9298256], dtype=float32)},\n",
       " {'expression_pred': array([0.53331304], dtype=float32)},\n",
       " {'expression_pred': array([1.1237801], dtype=float32)},\n",
       " {'expression_pred': array([0.83659005], dtype=float32)},\n",
       " {'expression_pred': array([-0.6631549], dtype=float32)},\n",
       " {'expression_pred': array([0.6978018], dtype=float32)},\n",
       " {'expression_pred': array([-1.129867], dtype=float32)},\n",
       " {'expression_pred': array([0.6699106], dtype=float32)},\n",
       " {'expression_pred': array([1.1953077], dtype=float32)},\n",
       " {'expression_pred': array([1.5056804], dtype=float32)},\n",
       " {'expression_pred': array([0.6609383], dtype=float32)},\n",
       " {'expression_pred': array([0.8638169], dtype=float32)},\n",
       " {'expression_pred': array([-0.8365879], dtype=float32)},\n",
       " {'expression_pred': array([0.7044843], dtype=float32)},\n",
       " {'expression_pred': array([-0.9282443], dtype=float32)},\n",
       " {'expression_pred': array([0.9277975], dtype=float32)},\n",
       " {'expression_pred': array([0.8079379], dtype=float32)},\n",
       " {'expression_pred': array([0.7190003], dtype=float32)},\n",
       " {'expression_pred': array([0.718888], dtype=float32)},\n",
       " {'expression_pred': array([1.052604], dtype=float32)},\n",
       " {'expression_pred': array([-0.6389698], dtype=float32)},\n",
       " {'expression_pred': array([0.516262], dtype=float32)},\n",
       " {'expression_pred': array([0.5159873], dtype=float32)},\n",
       " {'expression_pred': array([0.8570152], dtype=float32)},\n",
       " {'expression_pred': array([0.8895692], dtype=float32)},\n",
       " {'expression_pred': array([0.87316936], dtype=float32)},\n",
       " {'expression_pred': array([0.843306], dtype=float32)},\n",
       " {'expression_pred': array([0.01917227], dtype=float32)},\n",
       " {'expression_pred': array([0.69731134], dtype=float32)},\n",
       " {'expression_pred': array([0.77787024], dtype=float32)},\n",
       " {'expression_pred': array([-0.82115275], dtype=float32)},\n",
       " {'expression_pred': array([-0.63213253], dtype=float32)},\n",
       " {'expression_pred': array([0.84134716], dtype=float32)},\n",
       " {'expression_pred': array([0.43011147], dtype=float32)},\n",
       " {'expression_pred': array([0.54538167], dtype=float32)},\n",
       " {'expression_pred': array([1.0535946], dtype=float32)},\n",
       " {'expression_pred': array([-0.41524523], dtype=float32)},\n",
       " {'expression_pred': array([0.04084133], dtype=float32)},\n",
       " {'expression_pred': array([0.6124614], dtype=float32)},\n",
       " {'expression_pred': array([0.6173209], dtype=float32)},\n",
       " {'expression_pred': array([0.13462041], dtype=float32)},\n",
       " {'expression_pred': array([1.0830108], dtype=float32)},\n",
       " {'expression_pred': array([0.65917915], dtype=float32)},\n",
       " {'expression_pred': array([1.0357432], dtype=float32)},\n",
       " {'expression_pred': array([-1.1269461], dtype=float32)},\n",
       " {'expression_pred': array([-0.58339524], dtype=float32)},\n",
       " {'expression_pred': array([0.95067024], dtype=float32)},\n",
       " {'expression_pred': array([0.8029034], dtype=float32)},\n",
       " {'expression_pred': array([1.2096024], dtype=float32)},\n",
       " {'expression_pred': array([0.17962094], dtype=float32)},\n",
       " {'expression_pred': array([1.0397612], dtype=float32)},\n",
       " {'expression_pred': array([0.86972153], dtype=float32)},\n",
       " {'expression_pred': array([0.3897642], dtype=float32)},\n",
       " {'expression_pred': array([1.0247871], dtype=float32)},\n",
       " {'expression_pred': array([0.9596602], dtype=float32)},\n",
       " {'expression_pred': array([0.31778696], dtype=float32)},\n",
       " {'expression_pred': array([0.68708646], dtype=float32)},\n",
       " {'expression_pred': array([-0.5773778], dtype=float32)},\n",
       " {'expression_pred': array([1.0849247], dtype=float32)},\n",
       " {'expression_pred': array([-0.6695442], dtype=float32)},\n",
       " {'expression_pred': array([0.6308896], dtype=float32)},\n",
       " {'expression_pred': array([0.73046774], dtype=float32)},\n",
       " {'expression_pred': array([-0.87050855], dtype=float32)},\n",
       " {'expression_pred': array([-0.35161543], dtype=float32)},\n",
       " {'expression_pred': array([-1.1618352], dtype=float32)},\n",
       " {'expression_pred': array([-1.1171331], dtype=float32)},\n",
       " {'expression_pred': array([0.24237694], dtype=float32)},\n",
       " {'expression_pred': array([0.20755725], dtype=float32)},\n",
       " {'expression_pred': array([-0.72210073], dtype=float32)},\n",
       " {'expression_pred': array([-1.0207876], dtype=float32)},\n",
       " {'expression_pred': array([0.37807238], dtype=float32)},\n",
       " {'expression_pred': array([0.23749344], dtype=float32)},\n",
       " {'expression_pred': array([-0.5244911], dtype=float32)},\n",
       " {'expression_pred': array([-0.78335047], dtype=float32)},\n",
       " {'expression_pred': array([-0.56985253], dtype=float32)},\n",
       " {'expression_pred': array([-0.8392243], dtype=float32)},\n",
       " {'expression_pred': array([0.84768], dtype=float32)},\n",
       " {'expression_pred': array([0.445804], dtype=float32)},\n",
       " {'expression_pred': array([0.71347755], dtype=float32)},\n",
       " {'expression_pred': array([0.84045833], dtype=float32)},\n",
       " {'expression_pred': array([0.6384213], dtype=float32)},\n",
       " {'expression_pred': array([0.6492277], dtype=float32)},\n",
       " {'expression_pred': array([-0.21598084], dtype=float32)},\n",
       " {'expression_pred': array([1.0138273], dtype=float32)},\n",
       " {'expression_pred': array([-0.4915803], dtype=float32)},\n",
       " {'expression_pred': array([0.6951951], dtype=float32)},\n",
       " {'expression_pred': array([0.71807855], dtype=float32)},\n",
       " {'expression_pred': array([0.7270405], dtype=float32)},\n",
       " {'expression_pred': array([0.85636395], dtype=float32)},\n",
       " {'expression_pred': array([1.0014198], dtype=float32)},\n",
       " {'expression_pred': array([-0.8674558], dtype=float32)},\n",
       " {'expression_pred': array([-0.86702716], dtype=float32)},\n",
       " {'expression_pred': array([0.7976659], dtype=float32)},\n",
       " {'expression_pred': array([-1.0182182], dtype=float32)},\n",
       " {'expression_pred': array([0.77209324], dtype=float32)},\n",
       " {'expression_pred': array([-0.9975875], dtype=float32)},\n",
       " {'expression_pred': array([0.9991933], dtype=float32)},\n",
       " {'expression_pred': array([0.92306143], dtype=float32)},\n",
       " {'expression_pred': array([0.92958546], dtype=float32)},\n",
       " {'expression_pred': array([-0.6625146], dtype=float32)},\n",
       " {'expression_pred': array([-0.15954702], dtype=float32)},\n",
       " {'expression_pred': array([-0.9799872], dtype=float32)},\n",
       " {'expression_pred': array([-0.57791245], dtype=float32)},\n",
       " {'expression_pred': array([0.79458857], dtype=float32)},\n",
       " {'expression_pred': array([0.7929695], dtype=float32)},\n",
       " {'expression_pred': array([1.2432125], dtype=float32)},\n",
       " {'expression_pred': array([0.6649911], dtype=float32)},\n",
       " {'expression_pred': array([0.59600824], dtype=float32)},\n",
       " {'expression_pred': array([-0.8376849], dtype=float32)},\n",
       " {'expression_pred': array([-1.0151354], dtype=float32)},\n",
       " {'expression_pred': array([-0.02590911], dtype=float32)},\n",
       " {'expression_pred': array([-0.5483879], dtype=float32)},\n",
       " {'expression_pred': array([-1.0570061], dtype=float32)},\n",
       " {'expression_pred': array([-0.94697946], dtype=float32)},\n",
       " {'expression_pred': array([0.78910524], dtype=float32)},\n",
       " {'expression_pred': array([-0.71774393], dtype=float32)},\n",
       " {'expression_pred': array([0.7190692], dtype=float32)},\n",
       " {'expression_pred': array([-0.98136395], dtype=float32)},\n",
       " {'expression_pred': array([0.84520966], dtype=float32)},\n",
       " {'expression_pred': array([-0.2979375], dtype=float32)},\n",
       " {'expression_pred': array([-0.7206766], dtype=float32)},\n",
       " {'expression_pred': array([-0.5894971], dtype=float32)},\n",
       " {'expression_pred': array([0.95069915], dtype=float32)},\n",
       " {'expression_pred': array([0.68927807], dtype=float32)},\n",
       " {'expression_pred': array([-0.86916804], dtype=float32)},\n",
       " {'expression_pred': array([-0.9701291], dtype=float32)},\n",
       " {'expression_pred': array([0.8462698], dtype=float32)},\n",
       " {'expression_pred': array([0.6179255], dtype=float32)},\n",
       " {'expression_pred': array([0.29326275], dtype=float32)},\n",
       " {'expression_pred': array([-1.2316798], dtype=float32)},\n",
       " {'expression_pred': array([-1.0424619], dtype=float32)},\n",
       " {'expression_pred': array([-0.23069216], dtype=float32)},\n",
       " {'expression_pred': array([-0.6325317], dtype=float32)},\n",
       " {'expression_pred': array([1.012638], dtype=float32)},\n",
       " {'expression_pred': array([0.84074223], dtype=float32)},\n",
       " {'expression_pred': array([1.1878129], dtype=float32)},\n",
       " {'expression_pred': array([-0.9542423], dtype=float32)},\n",
       " {'expression_pred': array([0.9464491], dtype=float32)},\n",
       " {'expression_pred': array([-1.09035], dtype=float32)},\n",
       " {'expression_pred': array([-0.82857364], dtype=float32)},\n",
       " {'expression_pred': array([-0.64258516], dtype=float32)},\n",
       " {'expression_pred': array([0.66038764], dtype=float32)},\n",
       " {'expression_pred': array([0.6076782], dtype=float32)},\n",
       " {'expression_pred': array([0.7100864], dtype=float32)},\n",
       " {'expression_pred': array([-0.29856616], dtype=float32)},\n",
       " {'expression_pred': array([-0.7106195], dtype=float32)},\n",
       " {'expression_pred': array([0.800623], dtype=float32)},\n",
       " {'expression_pred': array([-0.5983597], dtype=float32)},\n",
       " {'expression_pred': array([0.5976062], dtype=float32)},\n",
       " {'expression_pred': array([0.99517184], dtype=float32)},\n",
       " {'expression_pred': array([-0.464948], dtype=float32)},\n",
       " {'expression_pred': array([-1.0882593], dtype=float32)},\n",
       " {'expression_pred': array([-0.22543056], dtype=float32)},\n",
       " {'expression_pred': array([-0.804189], dtype=float32)},\n",
       " {'expression_pred': array([0.4018789], dtype=float32)},\n",
       " {'expression_pred': array([-0.829999], dtype=float32)},\n",
       " {'expression_pred': array([0.68002194], dtype=float32)},\n",
       " {'expression_pred': array([0.4297998], dtype=float32)},\n",
       " {'expression_pred': array([-0.74390715], dtype=float32)},\n",
       " {'expression_pred': array([-1.0537664], dtype=float32)},\n",
       " {'expression_pred': array([-0.8209913], dtype=float32)},\n",
       " {'expression_pred': array([0.8405941], dtype=float32)},\n",
       " {'expression_pred': array([0.80122375], dtype=float32)},\n",
       " {'expression_pred': array([0.6174138], dtype=float32)},\n",
       " {'expression_pred': array([0.84942836], dtype=float32)},\n",
       " {'expression_pred': array([-0.98975724], dtype=float32)},\n",
       " {'expression_pred': array([0.5175528], dtype=float32)},\n",
       " {'expression_pred': array([-1.0713717], dtype=float32)},\n",
       " {'expression_pred': array([-0.94538397], dtype=float32)},\n",
       " {'expression_pred': array([0.6241916], dtype=float32)},\n",
       " {'expression_pred': array([-0.98609346], dtype=float32)},\n",
       " {'expression_pred': array([0.43025696], dtype=float32)},\n",
       " {'expression_pred': array([0.34664857], dtype=float32)},\n",
       " {'expression_pred': array([-1.0632358], dtype=float32)},\n",
       " {'expression_pred': array([0.9206672], dtype=float32)},\n",
       " {'expression_pred': array([-0.8726699], dtype=float32)},\n",
       " {'expression_pred': array([-1.1245686], dtype=float32)},\n",
       " {'expression_pred': array([-1.1276959], dtype=float32)},\n",
       " {'expression_pred': array([0.8113429], dtype=float32)},\n",
       " {'expression_pred': array([1.0184592], dtype=float32)},\n",
       " {'expression_pred': array([0.6123251], dtype=float32)},\n",
       " {'expression_pred': array([1.0959485], dtype=float32)},\n",
       " {'expression_pred': array([0.24272422], dtype=float32)},\n",
       " {'expression_pred': array([0.46947497], dtype=float32)},\n",
       " {'expression_pred': array([-0.903284], dtype=float32)},\n",
       " {'expression_pred': array([-1.0679951], dtype=float32)},\n",
       " {'expression_pred': array([-0.7148105], dtype=float32)},\n",
       " {'expression_pred': array([-1.1258179], dtype=float32)},\n",
       " {'expression_pred': array([-0.84511864], dtype=float32)},\n",
       " {'expression_pred': array([0.8881545], dtype=float32)},\n",
       " {'expression_pred': array([-0.8994946], dtype=float32)},\n",
       " {'expression_pred': array([-1.1186311], dtype=float32)},\n",
       " {'expression_pred': array([0.5922936], dtype=float32)},\n",
       " {'expression_pred': array([0.33487505], dtype=float32)},\n",
       " {'expression_pred': array([0.7985004], dtype=float32)},\n",
       " {'expression_pred': array([-0.5422492], dtype=float32)},\n",
       " {'expression_pred': array([0.8443031], dtype=float32)},\n",
       " {'expression_pred': array([0.530758], dtype=float32)},\n",
       " {'expression_pred': array([-0.84093004], dtype=float32)},\n",
       " {'expression_pred': array([-0.26064438], dtype=float32)},\n",
       " {'expression_pred': array([-1.0263993], dtype=float32)},\n",
       " {'expression_pred': array([-0.60741824], dtype=float32)},\n",
       " {'expression_pred': array([0.88760155], dtype=float32)},\n",
       " {'expression_pred': array([1.0432884], dtype=float32)},\n",
       " {'expression_pred': array([0.73618543], dtype=float32)},\n",
       " {'expression_pred': array([-0.19810118], dtype=float32)},\n",
       " {'expression_pred': array([0.03200029], dtype=float32)},\n",
       " {'expression_pred': array([0.70388335], dtype=float32)},\n",
       " {'expression_pred': array([0.20382322], dtype=float32)},\n",
       " {'expression_pred': array([0.61049354], dtype=float32)},\n",
       " {'expression_pred': array([0.27391198], dtype=float32)},\n",
       " {'expression_pred': array([0.4401797], dtype=float32)},\n",
       " {'expression_pred': array([0.88892436], dtype=float32)},\n",
       " {'expression_pred': array([0.6279715], dtype=float32)},\n",
       " {'expression_pred': array([0.6615551], dtype=float32)},\n",
       " {'expression_pred': array([0.93578786], dtype=float32)},\n",
       " {'expression_pred': array([1.0933487], dtype=float32)},\n",
       " {'expression_pred': array([-0.01808469], dtype=float32)},\n",
       " {'expression_pred': array([1.3041204], dtype=float32)},\n",
       " {'expression_pred': array([0.8032447], dtype=float32)},\n",
       " {'expression_pred': array([0.88558435], dtype=float32)},\n",
       " {'expression_pred': array([-1.2148508], dtype=float32)},\n",
       " {'expression_pred': array([-0.0982969], dtype=float32)},\n",
       " {'expression_pred': array([1.174247], dtype=float32)},\n",
       " {'expression_pred': array([1.2440488], dtype=float32)},\n",
       " {'expression_pred': array([0.78982407], dtype=float32)},\n",
       " {'expression_pred': array([1.0827596], dtype=float32)},\n",
       " {'expression_pred': array([0.67524076], dtype=float32)},\n",
       " {'expression_pred': array([1.2806944], dtype=float32)},\n",
       " {'expression_pred': array([-1.207894], dtype=float32)},\n",
       " {'expression_pred': array([0.6764892], dtype=float32)},\n",
       " {'expression_pred': array([0.5683489], dtype=float32)},\n",
       " {'expression_pred': array([0.7623916], dtype=float32)},\n",
       " {'expression_pred': array([0.7301536], dtype=float32)},\n",
       " {'expression_pred': array([0.82900846], dtype=float32)},\n",
       " {'expression_pred': array([-0.4989776], dtype=float32)},\n",
       " {'expression_pred': array([0.61206657], dtype=float32)},\n",
       " {'expression_pred': array([-0.18345477], dtype=float32)},\n",
       " {'expression_pred': array([0.68982714], dtype=float32)},\n",
       " {'expression_pred': array([1.2816019], dtype=float32)},\n",
       " {'expression_pred': array([0.98101187], dtype=float32)},\n",
       " {'expression_pred': array([-0.3080042], dtype=float32)},\n",
       " {'expression_pred': array([0.7595175], dtype=float32)},\n",
       " {'expression_pred': array([-0.19647883], dtype=float32)},\n",
       " {'expression_pred': array([1.2645488], dtype=float32)},\n",
       " {'expression_pred': array([0.7136591], dtype=float32)},\n",
       " {'expression_pred': array([0.81486714], dtype=float32)},\n",
       " {'expression_pred': array([0.74075913], dtype=float32)},\n",
       " {'expression_pred': array([0.5638211], dtype=float32)},\n",
       " {'expression_pred': array([0.52595437], dtype=float32)},\n",
       " {'expression_pred': array([0.9087487], dtype=float32)},\n",
       " {'expression_pred': array([-0.7721266], dtype=float32)},\n",
       " {'expression_pred': array([-0.8895641], dtype=float32)},\n",
       " {'expression_pred': array([0.30857772], dtype=float32)},\n",
       " {'expression_pred': array([0.8168547], dtype=float32)},\n",
       " {'expression_pred': array([0.6773094], dtype=float32)},\n",
       " {'expression_pred': array([0.65718883], dtype=float32)},\n",
       " {'expression_pred': array([0.00641696], dtype=float32)},\n",
       " {'expression_pred': array([-0.5747397], dtype=float32)},\n",
       " {'expression_pred': array([0.47913367], dtype=float32)},\n",
       " {'expression_pred': array([-0.43072778], dtype=float32)},\n",
       " {'expression_pred': array([0.4242471], dtype=float32)},\n",
       " {'expression_pred': array([0.98239833], dtype=float32)},\n",
       " {'expression_pred': array([-1.4618281], dtype=float32)},\n",
       " {'expression_pred': array([-1.1280622], dtype=float32)},\n",
       " {'expression_pred': array([1.1669043], dtype=float32)},\n",
       " {'expression_pred': array([0.7621808], dtype=float32)},\n",
       " {'expression_pred': array([-0.50371754], dtype=float32)},\n",
       " {'expression_pred': array([-0.5724396], dtype=float32)},\n",
       " {'expression_pred': array([0.07000665], dtype=float32)},\n",
       " {'expression_pred': array([1.047194], dtype=float32)},\n",
       " {'expression_pred': array([0.70989335], dtype=float32)},\n",
       " {'expression_pred': array([0.809246], dtype=float32)},\n",
       " {'expression_pred': array([0.92650807], dtype=float32)},\n",
       " {'expression_pred': array([0.71449745], dtype=float32)},\n",
       " {'expression_pred': array([0.8697443], dtype=float32)},\n",
       " {'expression_pred': array([0.84393054], dtype=float32)},\n",
       " {'expression_pred': array([0.89969224], dtype=float32)},\n",
       " {'expression_pred': array([0.48654473], dtype=float32)},\n",
       " {'expression_pred': array([0.76449716], dtype=float32)},\n",
       " {'expression_pred': array([-0.3638506], dtype=float32)},\n",
       " {'expression_pred': array([0.37939364], dtype=float32)},\n",
       " {'expression_pred': array([0.17878608], dtype=float32)},\n",
       " {'expression_pred': array([0.9554087], dtype=float32)},\n",
       " {'expression_pred': array([-0.15900947], dtype=float32)},\n",
       " {'expression_pred': array([0.7542097], dtype=float32)},\n",
       " {'expression_pred': array([0.07814814], dtype=float32)}]"
      ]
     },
     "execution_count": 8,
     "metadata": {},
     "output_type": "execute_result"
    }
   ],
   "source": [
    "preds"
   ]
  },
  {
   "cell_type": "markdown",
   "id": "universal-burton",
   "metadata": {},
   "source": [
    "Same results as previously"
   ]
  },
  {
   "cell_type": "markdown",
   "id": "crucial-paraguay",
   "metadata": {},
   "source": [
    "# Test start codon based extractor"
   ]
  },
  {
   "cell_type": "code",
   "execution_count": 9,
   "id": "amino-assembly",
   "metadata": {},
   "outputs": [],
   "source": [
    "class StartCodonDl(AnchoredGTFDl):\n",
    "    \n",
    "    def __init__(self, gtf_file, fasta_file, \n",
    "                 num_upstream, num_downstream,\n",
    "                 interval_attrs=[\"gene_id\", \"Strand\"],\n",
    "                 use_strand=True):\n",
    "        super().__init__(\n",
    "            gtf_file, fasta_file, \n",
    "            num_upstream, num_downstream,\n",
    "            gtf_filter = 'gene_type == \"protein_coding\"',\n",
    "            anchor = \"start_codon\",\n",
    "            transform = None,\n",
    "            interval_attrs=[\"gene_id\", \"Strand\"],\n",
    "            use_strand=True\n",
    "        )"
   ]
  },
  {
   "cell_type": "code",
   "execution_count": 10,
   "id": "motivated-little",
   "metadata": {},
   "outputs": [],
   "source": [
    "start = StartCodonDl(\"chrom22.gtf\", 'chrom22.fa', 50, 50)"
   ]
  },
  {
   "cell_type": "code",
   "execution_count": 11,
   "id": "congressional-bishop",
   "metadata": {},
   "outputs": [
    {
     "data": {
      "text/plain": [
       "{'inputs': array('GAGTGTTAGGAGGGTGGCCTGAGCAGTAGGATTGGGGCTGGAGCAGTAAGATGGCAGCCGGAGCGGTAAGAGTGCAGCCTGAGCGGTAGGAGGGTGGCTG',\n",
       "       dtype='<U100'),\n",
       " 'metadata': {'gene_id': 'ENSG00000279973.1',\n",
       "  'Strand': '+',\n",
       "  'ranges': GenomicRanges(chr='chr22', start=11066450, end=11066550, id='0', strand='*')}}"
      ]
     },
     "execution_count": 11,
     "metadata": {},
     "output_type": "execute_result"
    }
   ],
   "source": [
    "start[0]"
   ]
  },
  {
   "cell_type": "code",
   "execution_count": 12,
   "id": "blank-auditor",
   "metadata": {},
   "outputs": [
    {
     "data": {
      "text/plain": [
       "'GAGTGTTAGGAGGGTGGCCTGAGCAGTAGGATTGGGGCTGGAGCAGTAAGATG'"
      ]
     },
     "execution_count": 12,
     "metadata": {},
     "output_type": "execute_result"
    }
   ],
   "source": [
    "str(start[0][\"inputs\"])[:53]"
   ]
  },
  {
   "cell_type": "code",
   "execution_count": 13,
   "id": "tutorial-daughter",
   "metadata": {},
   "outputs": [
    {
     "data": {
      "text/plain": [
       "{'inputs': array('GGAGCACATGGAACGCTTTGGGGTCCCTTTTTAGCCGGGGATTCCAGTGAATGAAAACGGTAGCAGGGGCTCTTTTGAGCTTGGTCATGGGGCAGCCCTC',\n",
       "       dtype='<U100'),\n",
       " 'metadata': {'gene_id': 'ENSG00000184470.20',\n",
       "  'Strand': '-',\n",
       "  'ranges': GenomicRanges(chr='chr22', start=19881039, end=19881139, id='1000', strand='*')}}"
      ]
     },
     "execution_count": 13,
     "metadata": {},
     "output_type": "execute_result"
    }
   ],
   "source": [
    "start[1000]"
   ]
  },
  {
   "cell_type": "code",
   "execution_count": 14,
   "id": "inner-behavior",
   "metadata": {},
   "outputs": [
    {
     "data": {
      "text/plain": [
       "'GGAGCACATGGAACGCTTTGGGGTCCCTTTTTAGCCGGGGATTCCAGTGAATG'"
      ]
     },
     "execution_count": 14,
     "metadata": {},
     "output_type": "execute_result"
    }
   ],
   "source": [
    "str(start[1000][\"inputs\"])[:53]"
   ]
  },
  {
   "cell_type": "markdown",
   "id": "transparent-publisher",
   "metadata": {},
   "source": [
    "Works for both strands as expected"
   ]
  }
 ],
 "metadata": {
  "kernelspec": {
   "display_name": "Python [conda env:anaconda-kipoi-Framepool2]",
   "language": "python",
   "name": "conda-env-anaconda-kipoi-Framepool2-py"
  },
  "language_info": {
   "codemirror_mode": {
    "name": "ipython",
    "version": 3
   },
   "file_extension": ".py",
   "mimetype": "text/x-python",
   "name": "python",
   "nbconvert_exporter": "python",
   "pygments_lexer": "ipython3",
   "version": "3.6.7"
  }
 },
 "nbformat": 4,
 "nbformat_minor": 5
}
