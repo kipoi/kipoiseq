{
 "cells": [
  {
   "cell_type": "code",
   "execution_count": 1,
   "metadata": {},
   "outputs": [],
   "source": [
    "from kipoiseq.extractors.protein import SingleVariantProteinVCFSeqExtractor, TranscriptSeqExtractor, SingleSeqProteinVCFSeqExtractor\n",
    "from kipoiseq.transforms.functional import rc_dna, translate\n",
    "from allennlp.commands.elmo import ElmoEmbedder\n",
    "from tqdm import tqdm_notebook as tqdm\n",
    "from pathlib import Path\n",
    "import kipoi"
   ]
  },
  {
   "cell_type": "code",
   "execution_count": 2,
   "metadata": {},
   "outputs": [],
   "source": [
    "gtf_file = '../tests/data/sample_1_protein.gtf'\n",
    "fasta_file = '../tests/data/demo_dna_seq.fa'\n",
    "vcf_file = '../tests/data/singleVar_vcf_enst_test2.vcf.gz'"
   ]
  },
  {
   "cell_type": "code",
   "execution_count": 3,
   "metadata": {},
   "outputs": [
    {
     "name": "stderr",
     "output_type": "stream",
     "text": [
      "03/30/2020 14:01:50 - INFO - numexpr.utils -   Note: detected 96 virtual cores but NumExpr set to maximum of 64, check \"NUMEXPR_MAX_THREADS\" environment variable.\n",
      "03/30/2020 14:01:50 - INFO - numexpr.utils -   Note: NumExpr detected 96 cores but \"NUMEXPR_MAX_THREADS\" not set, so enforcing safe limit of 8.\n"
     ]
    },
    {
     "name": "stdout",
     "output_type": "stream",
     "text": [
      "Transcript support level not in gtf.Skipping the associated filters.\n",
      "Transcript support level not in gtf.Skipping the associated filters.\n",
      "Transcript support level not in gtf.Skipping the associated filters.\n"
     ]
    }
   ],
   "source": [
    "ssp = SingleSeqProteinVCFSeqExtractor(gtf_file, fasta_file, vcf_file)\n",
    "svp = SingleVariantProteinVCFSeqExtractor(gtf_file, fasta_file, vcf_file)\n",
    "tse = TranscriptSeqExtractor(gtf_file, fasta_file)"
   ]
  },
  {
   "cell_type": "code",
   "execution_count": 4,
   "metadata": {},
   "outputs": [
    {
     "name": "stderr",
     "output_type": "stream",
     "text": [
      "03/30/2020 14:02:22 - INFO - kipoi.sources -   Update /data/nasif12/home_if12/nonchev/.kipoi/models/\n",
      "03/30/2020 14:02:49 - INFO - kipoi.data -   successfully loaded the dataloader SeqVec/embedding/. from /data/nasif12/home_if12/nonchev/.kipoi/models/SeqVec/embedding/dataloader.SeqDataloader\n",
      "03/30/2020 14:02:49 - INFO - kipoi.model -   Downloading model arguments weights from https://rostlab.org/~deepppi/embedding_repo/embedding_models/seqvec/weights.hdf5\n"
     ]
    },
    {
     "name": "stdout",
     "output_type": "stream",
     "text": [
      "Using downloaded and verified file: /data/nasif12/home_if12/nonchev/.kipoi/models/SeqVec/embedding/downloaded/model_files/weights/0249d59249a50b43b79f641ff2ba7e88\n"
     ]
    },
    {
     "name": "stderr",
     "output_type": "stream",
     "text": [
      "03/30/2020 14:02:53 - INFO - kipoi.model -   Downloading model arguments options from https://rostlab.org/~deepppi/embedding_repo/embedding_models/seqvec/options.json\n"
     ]
    },
    {
     "name": "stdout",
     "output_type": "stream",
     "text": [
      "Using downloaded and verified file: /data/nasif12/home_if12/nonchev/.kipoi/models/SeqVec/embedding/downloaded/model_files/options/cede355187778de3ac302a83c761f5f9\n"
     ]
    },
    {
     "name": "stderr",
     "output_type": "stream",
     "text": [
      "03/30/2020 14:02:53 - INFO - allennlp.commands.elmo -   Initializing ELMo.\n",
      "03/30/2020 14:03:18 - INFO - kipoi.pipeline -   dataloader.output_schema is compatible with model.schema\n"
     ]
    }
   ],
   "source": [
    "model = kipoi.get_model('SeqVec/embedding')"
   ]
  },
  {
   "cell_type": "code",
   "execution_count": 5,
   "metadata": {},
   "outputs": [],
   "source": [
    "transcript_id = 'enst_test2'"
   ]
  },
  {
   "cell_type": "code",
   "execution_count": 6,
   "metadata": {},
   "outputs": [],
   "source": [
    "seqs = list(svp.extract(transcript_id))\n",
    "assert len(seqs) == 3 # I expect 3 seq, because there are 3 variants in the vcf file for enst_test2"
   ]
  },
  {
   "cell_type": "code",
   "execution_count": 7,
   "metadata": {},
   "outputs": [],
   "source": [
    "seqvecs = []\n",
    "for seq in seqs:\n",
    "    seqvecs.append(model.predict_single_sample(seq))\n",
    "assert len(seqvecs) == 3"
   ]
  },
  {
   "cell_type": "code",
   "execution_count": 8,
   "metadata": {},
   "outputs": [
    {
     "name": "stdout",
     "output_type": "stream",
     "text": [
      "(3, 198, 1024)\n",
      "(3, 198, 1024)\n",
      "(3, 198, 1024)\n"
     ]
    }
   ],
   "source": [
    "for seqvec in seqvecs:\n",
    "    print(seqvec.shape)"
   ]
  },
  {
   "cell_type": "code",
   "execution_count": null,
   "metadata": {},
   "outputs": [],
   "source": []
  },
  {
   "cell_type": "code",
   "execution_count": null,
   "metadata": {},
   "outputs": [],
   "source": []
  }
 ],
 "metadata": {
  "kernelspec": {
   "display_name": "Python [conda env:anaconda-nonchevFromBrechtmann]",
   "language": "python",
   "name": "conda-env-anaconda-nonchevFromBrechtmann-py"
  },
  "language_info": {
   "codemirror_mode": {
    "name": "ipython",
    "version": 3
   },
   "file_extension": ".py",
   "mimetype": "text/x-python",
   "name": "python",
   "nbconvert_exporter": "python",
   "pygments_lexer": "ipython3",
   "version": "3.6.10"
  }
 },
 "nbformat": 4,
 "nbformat_minor": 4
}
