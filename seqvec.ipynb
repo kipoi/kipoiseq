{
 "cells": [
  {
   "cell_type": "code",
   "execution_count": 1,
   "metadata": {},
   "outputs": [
    {
     "name": "stderr",
     "output_type": "stream",
     "text": [
      "/opt/modules/i12g/anaconda/envs/nonchevFromBrechtmann/lib/python3.6/site-packages/sklearn/utils/linear_assignment_.py:22: FutureWarning: The linear_assignment_ module is deprecated in 0.21 and will be removed from 0.23. Use scipy.optimize.linear_sum_assignment instead.\n",
      "  FutureWarning)\n"
     ]
    }
   ],
   "source": [
    "from kipoiseq.extractors.protein import SingleVariantProteinVCFSeqExtractor, TranscriptSeqExtractor, SingleSeqProteinVCFSeqExtractor\n",
    "from kipoiseq.transforms.functional import rc_dna, translate\n",
    "from allennlp.commands.elmo import ElmoEmbedder\n",
    "from tqdm import tqdm_notebook as tqdm\n",
    "from pathlib import Path\n",
    "import kipoi"
   ]
  },
  {
   "cell_type": "code",
   "execution_count": 2,
   "metadata": {},
   "outputs": [],
   "source": [
    "ddir = Path('/s/genomes/human/hg38/ensembl_GRCh38')\n",
    "gtf_file = ddir / 'Homo_sapiens.GRCh38.99.gtf'\n",
    "protein_file = ddir / 'Homo_sapiens.GRCh38.pep.all.fa'\n",
    "fasta_file = ddir / 'Homo_sapiens.GRCh38.dna.primary_assembly.fa'\n",
    "vcf_file = 'tests/data/vcf_file_for_testing_synonymous_mutations.vcf.gz' #NF1"
   ]
  },
  {
   "cell_type": "code",
   "execution_count": 3,
   "metadata": {},
   "outputs": [
    {
     "name": "stderr",
     "output_type": "stream",
     "text": [
      "03/13/2020 12:26:19 - INFO - numexpr.utils -   Note: detected 96 virtual cores but NumExpr set to maximum of 64, check \"NUMEXPR_MAX_THREADS\" environment variable.\n",
      "03/13/2020 12:26:19 - INFO - numexpr.utils -   Note: NumExpr detected 96 cores but \"NUMEXPR_MAX_THREADS\" not set, so enforcing safe limit of 8.\n"
     ]
    }
   ],
   "source": [
    "#ssp = SingleSeqProteinVCFSeqExtractor(gtf_file, fasta_file, vcf_file)\n",
    "#svp = SingleVariantProteinVCFSeqExtractor(gtf_file, fasta_file, vcf_file)\n",
    "tse = TranscriptSeqExtractor(gtf_file, fasta_file)"
   ]
  },
  {
   "cell_type": "code",
   "execution_count": 4,
   "metadata": {},
   "outputs": [
    {
     "name": "stderr",
     "output_type": "stream",
     "text": [
      "03/13/2020 12:26:48 - INFO - kipoi.sources -   Update /data/nasif12/home_if12/nonchev/.kipoi/models/\n",
      "03/13/2020 12:26:50 - INFO - kipoi.data -   successfully loaded the dataloader SeqVec/embedding/. from /data/nasif12/home_if12/nonchev/.kipoi/models/SeqVec/embedding/dataloader.SeqDataloader\n",
      "03/13/2020 12:26:50 - INFO - kipoi.model -   Downloading model arguments weights from https://rostlab.org/~deepppi/embedding_repo/embedding_models/seqvec/weights.hdf5\n"
     ]
    },
    {
     "name": "stdout",
     "output_type": "stream",
     "text": [
      "Using downloaded and verified file: /data/nasif12/home_if12/nonchev/.kipoi/models/SeqVec/embedding/downloaded/model_files/weights/0249d59249a50b43b79f641ff2ba7e88\n"
     ]
    },
    {
     "name": "stderr",
     "output_type": "stream",
     "text": [
      "03/13/2020 12:26:54 - INFO - kipoi.model -   Downloading model arguments options from https://rostlab.org/~deepppi/embedding_repo/embedding_models/seqvec/options.json\n"
     ]
    },
    {
     "name": "stdout",
     "output_type": "stream",
     "text": [
      "Using downloaded and verified file: /data/nasif12/home_if12/nonchev/.kipoi/models/SeqVec/embedding/downloaded/model_files/options/cede355187778de3ac302a83c761f5f9\n"
     ]
    },
    {
     "name": "stderr",
     "output_type": "stream",
     "text": [
      "03/13/2020 12:26:54 - INFO - allennlp.commands.elmo -   Initializing ELMo.\n",
      "03/13/2020 12:27:17 - INFO - kipoi.pipeline -   dataloader.output_schema is compatible with model.schema\n"
     ]
    }
   ],
   "source": [
    "model = kipoi.get_model('SeqVec/embedding')"
   ]
  },
  {
   "cell_type": "code",
   "execution_count": 6,
   "metadata": {},
   "outputs": [],
   "source": [
    "transcript_id = 'ENST00000356175' "
   ]
  },
  {
   "cell_type": "code",
   "execution_count": 7,
   "metadata": {},
   "outputs": [],
   "source": [
    "seq = translate(tse.get_seq(transcript_id), True)"
   ]
  },
  {
   "cell_type": "code",
   "execution_count": 8,
   "metadata": {},
   "outputs": [],
   "source": [
    "seqvec = model.predict_single_sample(seq)"
   ]
  },
  {
   "cell_type": "code",
   "execution_count": 9,
   "metadata": {},
   "outputs": [
    {
     "data": {
      "text/plain": [
       "array([[[ 1.39853479e-02, -1.74987968e-02, -3.97468098e-02, ...,\n",
       "         -5.74841071e-03, -1.86758079e-02, -3.56224179e-03],\n",
       "        [-1.65067613e-04,  8.23291242e-02,  1.42271519e-02, ...,\n",
       "         -5.53604439e-02,  1.24684023e-02,  4.69544996e-03],\n",
       "        [-1.65067613e-04,  8.23291242e-02,  1.42271519e-02, ...,\n",
       "         -5.53604439e-02,  1.24684023e-02,  4.69544996e-03],\n",
       "        ...,\n",
       "        [-2.64407005e-02,  3.29485699e-03, -6.88469829e-03, ...,\n",
       "         -1.20379798e-01,  1.22037241e-02, -6.52068108e-02],\n",
       "        [ 3.57127562e-02,  8.92507583e-02,  1.57475788e-02, ...,\n",
       "          4.86953650e-03, -1.18707279e-02,  1.17699895e-02],\n",
       "        [ 3.63467596e-02, -9.60935187e-03,  1.28570758e-02, ...,\n",
       "         -7.58449966e-03, -1.11083891e-02,  1.09173516e-02]],\n",
       "\n",
       "       [[-1.52156323e-01, -3.66649143e-02, -7.25544840e-02, ...,\n",
       "          7.76823834e-02,  2.87504960e-03,  2.80333422e-02],\n",
       "        [-1.33532286e-03,  1.84552521e-02,  1.39797688e-01, ...,\n",
       "          1.66620374e-01,  7.08381832e-02, -1.44217126e-02],\n",
       "        [ 1.25674114e-01,  3.44590470e-03,  6.94484562e-02, ...,\n",
       "          2.03294247e-01,  1.93669364e-01, -4.00111750e-02],\n",
       "        ...,\n",
       "        [ 7.37375766e-03, -1.54677823e-01,  6.31308258e-02, ...,\n",
       "         -9.97380763e-02,  1.88948900e-01,  2.87300572e-02],\n",
       "        [-8.68666023e-02,  2.22571105e-01,  5.27715683e-02, ...,\n",
       "         -4.21652794e-02,  5.83675019e-02,  8.17691982e-02],\n",
       "        [-1.29063323e-01,  1.08730569e-01, -1.63586996e-02, ...,\n",
       "          2.09256336e-02, -1.58224314e-01, -3.40180844e-02]],\n",
       "\n",
       "       [[-2.17462033e-01, -8.37780386e-02,  2.06148103e-02, ...,\n",
       "         -2.53512636e-02, -3.74697149e-02, -1.01664424e-01],\n",
       "        [-1.20838821e-01,  7.31633902e-02,  1.19518094e-01, ...,\n",
       "          1.45401776e-01, -2.63875127e-02, -1.28601208e-01],\n",
       "        [ 1.13872588e-02,  1.12011969e-01,  1.44206837e-01, ...,\n",
       "          1.98958561e-01,  7.91249946e-02, -1.47976518e-01],\n",
       "        ...,\n",
       "        [ 1.26651764e-01, -1.33073017e-01, -8.74876976e-02, ...,\n",
       "         -2.01237649e-02,  1.59921050e-01, -1.90643221e-02],\n",
       "        [ 3.08514684e-02,  1.61107972e-01, -1.29322559e-01, ...,\n",
       "          3.01122144e-02,  3.68586630e-02, -2.13175416e-02],\n",
       "        [-4.84864563e-02,  9.20990035e-02, -2.12864146e-01, ...,\n",
       "          1.35238707e-01, -1.81618005e-01, -3.60532030e-02]]],\n",
       "      dtype=float32)"
      ]
     },
     "execution_count": 9,
     "metadata": {},
     "output_type": "execute_result"
    }
   ],
   "source": [
    "seqvec"
   ]
  },
  {
   "cell_type": "code",
   "execution_count": null,
   "metadata": {},
   "outputs": [],
   "source": []
  },
  {
   "cell_type": "code",
   "execution_count": null,
   "metadata": {},
   "outputs": [],
   "source": []
  },
  {
   "cell_type": "code",
   "execution_count": 5,
   "metadata": {},
   "outputs": [
    {
     "data": {
      "text/plain": [
       "['MODEL_PACKAGE',\n",
       " '__class__',\n",
       " '__delattr__',\n",
       " '__dict__',\n",
       " '__dir__',\n",
       " '__doc__',\n",
       " '__eq__',\n",
       " '__format__',\n",
       " '__ge__',\n",
       " '__getattribute__',\n",
       " '__gt__',\n",
       " '__hash__',\n",
       " '__init__',\n",
       " '__init_subclass__',\n",
       " '__le__',\n",
       " '__lt__',\n",
       " '__metaclass__',\n",
       " '__module__',\n",
       " '__ne__',\n",
       " '__new__',\n",
       " '__reduce__',\n",
       " '__reduce_ex__',\n",
       " '__repr__',\n",
       " '__setattr__',\n",
       " '__sizeof__',\n",
       " '__str__',\n",
       " '__subclasshook__',\n",
       " '__weakref__',\n",
       " '_get_model',\n",
       " '_sufficient_deps',\n",
       " 'args',\n",
       " 'default_dataloader',\n",
       " 'dependencies',\n",
       " 'info',\n",
       " 'name',\n",
       " 'pipeline',\n",
       " 'postprocessing',\n",
       " 'predict_on_batch',\n",
       " 'predict_single_sample',\n",
       " 'process_embedding',\n",
       " 'schema',\n",
       " 'seqvec',\n",
       " 'source',\n",
       " 'source_dir',\n",
       " 'source_name',\n",
       " 'test',\n",
       " 'type']"
      ]
     },
     "execution_count": 5,
     "metadata": {},
     "output_type": "execute_result"
    }
   ],
   "source": [
    "dir(model)"
   ]
  },
  {
   "cell_type": "code",
   "execution_count": null,
   "metadata": {},
   "outputs": [],
   "source": []
  }
 ],
 "metadata": {
  "kernelspec": {
   "display_name": "Python [conda env:anaconda-nonchevFromBrechtmann]",
   "language": "python",
   "name": "conda-env-anaconda-nonchevFromBrechtmann-py"
  },
  "language_info": {
   "codemirror_mode": {
    "name": "ipython",
    "version": 3
   },
   "file_extension": ".py",
   "mimetype": "text/x-python",
   "name": "python",
   "nbconvert_exporter": "python",
   "pygments_lexer": "ipython3",
   "version": "3.6.10"
  }
 },
 "nbformat": 4,
 "nbformat_minor": 4
}
