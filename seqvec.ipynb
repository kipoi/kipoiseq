{
 "cells": [
  {
   "cell_type": "code",
   "execution_count": 1,
   "metadata": {},
   "outputs": [],
   "source": [
    "from kipoiseq.extractors.protein import SingleVariantProteinVCFSeqExtractor, TranscriptSeqExtractor, SingleSeqProteinVCFSeqExtractor\n",
    "from kipoiseq.transforms.functional import rc_dna, translate\n",
    "from allennlp.commands.elmo import ElmoEmbedder\n",
    "from tqdm import tqdm_notebook as tqdm\n",
    "from pathlib import Path\n",
    "import kipoi"
   ]
  },
  {
   "cell_type": "code",
   "execution_count": 2,
   "metadata": {},
   "outputs": [],
   "source": [
    "ddir = Path('/s/genomes/human/hg38/ensembl_GRCh38')\n",
    "gtf_file = ddir / 'Homo_sapiens.GRCh38.99.gtf'\n",
    "protein_file = ddir / 'Homo_sapiens.GRCh38.pep.all.fa'\n",
    "fasta_file = ddir / 'Homo_sapiens.GRCh38.dna.primary_assembly.fa'\n",
    "vcf_file = 'tests/data/vcf_file_for_testing_synonymous_mutations.vcf.gz' #NF1"
   ]
  },
  {
   "cell_type": "code",
   "execution_count": 5,
   "metadata": {},
   "outputs": [
    {
     "name": "stderr",
     "output_type": "stream",
     "text": [
      "03/13/2020 16:48:18 - INFO - numexpr.utils -   Note: NumExpr detected 32 cores but \"NUMEXPR_MAX_THREADS\" not set, so enforcing safe limit of 8.\n"
     ]
    }
   ],
   "source": [
    "#ssp = SingleSeqProteinVCFSeqExtractor(gtf_file, fasta_file, vcf_file)\n",
    "#svp = SingleVariantProteinVCFSeqExtractor(gtf_file, fasta_file, vcf_file)\n",
    "tse = TranscriptSeqExtractor(gtf_file, fasta_file)"
   ]
  },
  {
   "cell_type": "code",
   "execution_count": 3,
   "metadata": {},
   "outputs": [
    {
     "name": "stderr",
     "output_type": "stream",
     "text": [
      "03/13/2020 16:46:15 - INFO - kipoi.sources -   Update /data/nasif12/home_if12/nonchev/.kipoi/models/\n",
      "03/13/2020 16:46:17 - INFO - kipoi.data -   successfully loaded the dataloader SeqVec/embedding/. from /data/nasif12/home_if12/nonchev/.kipoi/models/SeqVec/embedding/dataloader.SeqDataloader\n",
      "03/13/2020 16:46:17 - INFO - kipoi.model -   Downloading model arguments weights from https://rostlab.org/~deepppi/embedding_repo/embedding_models/seqvec/weights.hdf5\n"
     ]
    },
    {
     "name": "stdout",
     "output_type": "stream",
     "text": [
      "Using downloaded and verified file: /data/nasif12/home_if12/nonchev/.kipoi/models/SeqVec/embedding/downloaded/model_files/weights/0249d59249a50b43b79f641ff2ba7e88\n"
     ]
    },
    {
     "name": "stderr",
     "output_type": "stream",
     "text": [
      "03/13/2020 16:46:21 - INFO - kipoi.model -   Downloading model arguments options from https://rostlab.org/~deepppi/embedding_repo/embedding_models/seqvec/options.json\n"
     ]
    },
    {
     "name": "stdout",
     "output_type": "stream",
     "text": [
      "Using downloaded and verified file: /data/nasif12/home_if12/nonchev/.kipoi/models/SeqVec/embedding/downloaded/model_files/options/cede355187778de3ac302a83c761f5f9\n"
     ]
    },
    {
     "name": "stderr",
     "output_type": "stream",
     "text": [
      "03/13/2020 16:46:21 - INFO - allennlp.commands.elmo -   Initializing ELMo.\n",
      "03/13/2020 16:46:44 - INFO - kipoi.pipeline -   dataloader.output_schema is compatible with model.schema\n"
     ]
    }
   ],
   "source": [
    "model = kipoi.get_model('SeqVec/embedding')"
   ]
  },
  {
   "cell_type": "code",
   "execution_count": 6,
   "metadata": {},
   "outputs": [],
   "source": [
    "transcript_id = 'ENST00000356175' "
   ]
  },
  {
   "cell_type": "code",
   "execution_count": 7,
   "metadata": {},
   "outputs": [],
   "source": [
    "seq = translate(tse.get_seq(transcript_id), True)"
   ]
  },
  {
   "cell_type": "code",
   "execution_count": 8,
   "metadata": {},
   "outputs": [],
   "source": [
    "seqvec = model.predict_single_sample(seq)"
   ]
  },
  {
   "cell_type": "code",
   "execution_count": 9,
   "metadata": {},
   "outputs": [
    {
     "data": {
      "text/plain": [
       "array([[[ 1.39853489e-02, -1.74987987e-02, -3.97468172e-02, ...,\n",
       "         -5.74841117e-03, -1.86758079e-02, -3.56223993e-03],\n",
       "        [-1.65067613e-04,  8.23291242e-02,  1.42271519e-02, ...,\n",
       "         -5.53604476e-02,  1.24684023e-02,  4.69545089e-03],\n",
       "        [-1.65067613e-04,  8.23291242e-02,  1.42271519e-02, ...,\n",
       "         -5.53604476e-02,  1.24684023e-02,  4.69545089e-03],\n",
       "        ...,\n",
       "        [-2.64407005e-02,  3.29485442e-03, -6.88470108e-03, ...,\n",
       "         -1.20379798e-01,  1.22037241e-02, -6.52068108e-02],\n",
       "        [ 3.57127562e-02,  8.92507434e-02,  1.57475788e-02, ...,\n",
       "          4.86953650e-03, -1.18707279e-02,  1.17699895e-02],\n",
       "        [ 3.63467596e-02, -9.60935280e-03,  1.28570758e-02, ...,\n",
       "         -7.58449966e-03, -1.11083891e-02,  1.09173506e-02]],\n",
       "\n",
       "       [[-1.52156278e-01, -3.66647914e-02, -7.25543723e-02, ...,\n",
       "          7.76823238e-02,  2.87505984e-03,  2.80333236e-02],\n",
       "        [-1.33521482e-03,  1.84552036e-02,  1.39797747e-01, ...,\n",
       "          1.66620329e-01,  7.08381683e-02, -1.44216269e-02],\n",
       "        [ 1.25674114e-01,  3.44598480e-03,  6.94485605e-02, ...,\n",
       "          2.03294128e-01,  1.93669334e-01, -4.00110707e-02],\n",
       "        ...,\n",
       "        [ 7.37372320e-03, -1.54677898e-01,  6.31308183e-02, ...,\n",
       "         -9.97380614e-02,  1.88948840e-01,  2.87299566e-02],\n",
       "        [-8.68666396e-02,  2.22571224e-01,  5.27715683e-02, ...,\n",
       "         -4.21652980e-02,  5.83675466e-02,  8.17691982e-02],\n",
       "        [-1.29063383e-01,  1.08730473e-01, -1.63587332e-02, ...,\n",
       "          2.09256634e-02, -1.58224300e-01, -3.40181030e-02]],\n",
       "\n",
       "       [[-2.17461973e-01, -8.37779045e-02,  2.06148922e-02, ...,\n",
       "         -2.53511965e-02, -3.74696478e-02, -1.01664387e-01],\n",
       "        [-1.20838627e-01,  7.31633157e-02,  1.19518206e-01, ...,\n",
       "          1.45401761e-01, -2.63875872e-02, -1.28601044e-01],\n",
       "        [ 1.13871843e-02,  1.12012096e-01,  1.44206852e-01, ...,\n",
       "          1.98958427e-01,  7.91249275e-02, -1.47976428e-01],\n",
       "        ...,\n",
       "        [ 1.26651511e-01, -1.33073136e-01, -8.74876752e-02, ...,\n",
       "         -2.01238617e-02,  1.59921050e-01, -1.90643780e-02],\n",
       "        [ 3.08513269e-02,  1.61108017e-01, -1.29322439e-01, ...,\n",
       "          3.01122405e-02,  3.68587524e-02, -2.13175789e-02],\n",
       "        [-4.84866202e-02,  9.20989066e-02, -2.12864056e-01, ...,\n",
       "          1.35238737e-01, -1.81617945e-01, -3.60531844e-02]]],\n",
       "      dtype=float32)"
      ]
     },
     "execution_count": 9,
     "metadata": {},
     "output_type": "execute_result"
    }
   ],
   "source": [
    "seqvec"
   ]
  },
  {
   "cell_type": "code",
   "execution_count": null,
   "metadata": {},
   "outputs": [],
   "source": []
  },
  {
   "cell_type": "code",
   "execution_count": null,
   "metadata": {},
   "outputs": [],
   "source": []
  },
  {
   "cell_type": "code",
   "execution_count": 4,
   "metadata": {},
   "outputs": [
    {
     "data": {
      "text/plain": [
       "['MODEL_PACKAGE',\n",
       " '__class__',\n",
       " '__delattr__',\n",
       " '__dict__',\n",
       " '__dir__',\n",
       " '__doc__',\n",
       " '__eq__',\n",
       " '__format__',\n",
       " '__ge__',\n",
       " '__getattribute__',\n",
       " '__gt__',\n",
       " '__hash__',\n",
       " '__init__',\n",
       " '__init_subclass__',\n",
       " '__le__',\n",
       " '__lt__',\n",
       " '__metaclass__',\n",
       " '__module__',\n",
       " '__ne__',\n",
       " '__new__',\n",
       " '__reduce__',\n",
       " '__reduce_ex__',\n",
       " '__repr__',\n",
       " '__setattr__',\n",
       " '__sizeof__',\n",
       " '__str__',\n",
       " '__subclasshook__',\n",
       " '__weakref__',\n",
       " '_get_model',\n",
       " '_sufficient_deps',\n",
       " 'args',\n",
       " 'default_dataloader',\n",
       " 'dependencies',\n",
       " 'info',\n",
       " 'name',\n",
       " 'pipeline',\n",
       " 'postprocessing',\n",
       " 'predict_on_batch',\n",
       " 'predict_single_sample',\n",
       " 'process_embedding',\n",
       " 'schema',\n",
       " 'seqvec',\n",
       " 'source',\n",
       " 'source_dir',\n",
       " 'source_name',\n",
       " 'test',\n",
       " 'type']"
      ]
     },
     "execution_count": 4,
     "metadata": {},
     "output_type": "execute_result"
    }
   ],
   "source": [
    "dir(model)"
   ]
  },
  {
   "cell_type": "code",
   "execution_count": null,
   "metadata": {},
   "outputs": [],
   "source": []
  }
 ],
 "metadata": {
  "kernelspec": {
   "display_name": "Python [conda env:anaconda-nonchevFromBrechtmann]",
   "language": "python",
   "name": "conda-env-anaconda-nonchevFromBrechtmann-py"
  },
  "language_info": {
   "codemirror_mode": {
    "name": "ipython",
    "version": 3
   },
   "file_extension": ".py",
   "mimetype": "text/x-python",
   "name": "python",
   "nbconvert_exporter": "python",
   "pygments_lexer": "ipython3",
   "version": "3.6.10"
  }
 },
 "nbformat": 4,
 "nbformat_minor": 4
}
