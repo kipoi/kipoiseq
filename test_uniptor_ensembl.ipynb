{
 "cells": [
  {
   "cell_type": "code",
   "execution_count": 14,
   "metadata": {},
   "outputs": [],
   "source": [
    "from kipoiseq.extractors.protein import TranscriptSeqExtractor, CDSFetcher\n",
    "from kipoiseq.transforms.functional import rc_dna, translate\n",
    "from pathlib import Path\n",
    "from tqdm import tqdm_notebook as tqdm\n",
    "ddir = Path('/s/genomes/human/hg38/ensembl_GRCh38')\n",
    "gtf_file = ddir / 'Homo_sapiens.GRCh38.99.gtf'\n",
    "#gtf_file = 'tests/data/38_sample.gtf.txt'\n",
    "protein_file = ddir / 'Homo_sapiens.GRCh38.pep.all.fa'\n",
    "\n",
    "fasta_file = ddir / 'Homo_sapiens.GRCh38.dna.alt.fa'\n",
    "\n",
    "fasta_file = ddir / 'Homo_sapiens.GRCh38.dna.primary_assembly.fa'\n"
   ]
  },
  {
   "cell_type": "code",
   "execution_count": 2,
   "metadata": {},
   "outputs": [],
   "source": [
    "gps = TranscriptSeqExtractor(gtf_file, fasta_file)"
   ]
  },
  {
   "cell_type": "code",
   "execution_count": 25,
   "metadata": {},
   "outputs": [
    {
     "name": "stdout",
     "output_type": "stream",
     "text": [
      "MAAAAAAAGAAGSAAPAAAAGAPGSGGAPSGSQGVLIGDRLYSGVLITLENCLLPDDKLRFTPSMSSGLDTDTETDLRVVGCELIQAAGILLRLPQVAMATGQVLFQRFFYTKSFVKHSMEHVSMACVHLASKIEEAPRRIRDVINVFHRLRQLRDKKKPVPLLLDQDYVNLKNQIIKAERRVLKELGFCVHVKHPHKIIVMYLQVLECERNQHLVQTSWVASEGK\n"
     ]
    }
   ],
   "source": [
    "dna_seq = gps.get_seq(\"ENST00000408918\")\n",
    "print(translate(dna_seq,True))"
   ]
  },
  {
   "cell_type": "code",
   "execution_count": 26,
   "metadata": {},
   "outputs": [],
   "source": [
    "ref_path = '/data/nasif12/home_if12/nonchev/code/kipoiseq/tests/data/uniprot_ref.txt'\n",
    "id_and_seq = {}\n",
    "with open(ref_path, 'r+') as f:\n",
    "    key = \"\"\n",
    "    for line in f:\n",
    "        if '>' in line:\n",
    "            key = (line.replace('>','')).rstrip()\n",
    "        else:\n",
    "            id_and_seq[key] = line.rstrip()"
   ]
  },
  {
   "cell_type": "code",
   "execution_count": 27,
   "metadata": {},
   "outputs": [
    {
     "data": {
      "application/vnd.jupyter.widget-view+json": {
       "model_id": "4c16082908ca4d699917d1fb1651449c",
       "version_major": 2,
       "version_minor": 0
      },
      "text/plain": [
       "HBox(children=(IntProgress(value=0, max=4), HTML(value='')))"
      ]
     },
     "metadata": {},
     "output_type": "display_data"
    },
    {
     "name": "stdout",
     "output_type": "stream",
     "text": [
      "\n"
     ]
    }
   ],
   "source": [
    "for transkript_id, ref_seq in tqdm(id_and_seq.items()):\n",
    "    test_seq = translate(gps.get_seq(transkript_id),True)\n",
    "    assert test_seq == ref_seq, test_seq "
   ]
  },
  {
   "cell_type": "code",
   "execution_count": null,
   "metadata": {},
   "outputs": [],
   "source": [
    "# not a good idea because uniprot has a lot of isoforms seqs and it is hard manually to find the one needed in Homo_sapiens.GRCh38.99.gtf.\n",
    "# it is inefficient. I made ot for 4 random seqs. It works"
   ]
  }
 ],
 "metadata": {
  "kernelspec": {
   "display_name": "Python [conda env:3-2018.12-brechtmann]",
   "language": "python",
   "name": "conda-env-3-2018.12-brechtmann-py"
  },
  "language_info": {
   "codemirror_mode": {
    "name": "ipython",
    "version": 3
   },
   "file_extension": ".py",
   "mimetype": "text/x-python",
   "name": "python",
   "nbconvert_exporter": "python",
   "pygments_lexer": "ipython3",
   "version": "3.7.3"
  }
 },
 "nbformat": 4,
 "nbformat_minor": 4
}
