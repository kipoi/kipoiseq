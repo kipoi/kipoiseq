{
 "cells": [
  {
   "cell_type": "code",
   "execution_count": 1,
   "metadata": {},
   "outputs": [],
   "source": [
    "from kipoiseq.extractors.protein import TranscriptSeqExtractor, CDSFetcher\n",
    "\n",
    "from kipoiseq.transforms.functional import rc_dna, translate\n",
    "\n"
   ]
  },
  {
   "cell_type": "code",
   "execution_count": 2,
   "metadata": {},
   "outputs": [],
   "source": [
    "from pathlib import Path\n",
    "ddir = Path('/s/genomes/human/hg38/ensembl_GRCh38')\n",
    "gtf_file = ddir / 'Homo_sapiens.GRCh38.99.gtf'\n",
    "#gtf_file = 'tests/data/38_sample.gtf.txt'\n",
    "protein_file = ddir / 'Homo_sapiens.GRCh38.pep.all.fa'\n",
    "\n",
    "fasta_file = ddir / 'Homo_sapiens.GRCh38.dna.alt.fa'\n",
    "\n",
    "fasta_file = ddir / 'Homo_sapiens.GRCh38.dna.primary_assembly.fa'\n",
    "gps = TranscriptSeqExtractor(gtf_file, fasta_file)\n",
    "\n"
   ]
  },
  {
   "cell_type": "code",
   "execution_count": 3,
   "metadata": {},
   "outputs": [
    {
     "data": {
      "text/plain": [
       "'MRASPCISQPAASWHPRPSALRPTAGSGPDTRTPGTVEDGSAPCPAFRSPAVSPCGEEPCCFQISPAEETLELGRLVSPGCHKSSAPQERRLDPRARCVVHI'"
      ]
     },
     "execution_count": 3,
     "metadata": {},
     "output_type": "execute_result"
    }
   ],
   "source": [
    "from pyfaidx import Fasta\n",
    "from tqdm import tqdm_notebook as tqdm\n",
    "flag = False\n",
    "def read_pep_fa(protein_file):\n",
    "    import pandas as pd\n",
    "    proteins = Fasta(str(protein_file))\n",
    "    pl = []\n",
    "    for v in proteins:\n",
    "        names = v.long_name.split(\" \", 8)\n",
    "        d = {\"protein_id\": names[0], 'protein_type': names[1]}\n",
    "        d = {**d, **dict([n.split(\":\", 1) for n in names[2:]])}\n",
    "        d['seq'] = str(proteins[v.name])\n",
    "        pl.append(d)\n",
    "    return pd.DataFrame(pl)\n",
    "\n",
    "dfp = read_pep_fa(protein_file)\n",
    "dfp['transcript_id'] = dfp.transcript.str.split(\".\", n=1, expand=True)[0]\n",
    "#assert not dfp['transcript_id'].duplicated().any()\n",
    "dfp = dfp.set_index(\"transcript_id\")\n",
    "#dfp = dfp[~dfp.chromosome.isnull()]\n",
    "assert len(gps) >100\n",
    "assert gps.transcripts.isin(dfp.index).all()"
   ]
  },
  {
   "cell_type": "code",
   "execution_count": 4,
   "metadata": {},
   "outputs": [
    {
     "data": {
      "application/vnd.jupyter.widget-view+json": {
       "model_id": "2f22333141364f7c89129427aa3e67c6",
       "version_major": 2,
       "version_minor": 0
      },
      "text/plain": [
       "HBox(children=(IntProgress(value=0, max=53135), HTML(value='')))"
      ]
     },
     "metadata": {},
     "output_type": "display_data"
    },
    {
     "name": "stdout",
     "output_type": "stream",
     "text": [
      "seq.mismatch: ENST00000640867\n",
      "M I 0/212\n",
      "Ambiguous start and end!\n",
      "ENST00000606505 has an ambiguous start and end.Skip!\n",
      "seq.mismatch: ENST00000639906\n",
      "M L 0/235\n",
      "Ambiguous start and end!\n",
      "ENST00000473363 has an ambiguous start and end.Skip!\n",
      "Ambiguous start and end!\n",
      "ENST00000485079 has an ambiguous start and end.Skip!\n",
      "seq.mismatch: ENST00000639044\n",
      "M L 0/235\n",
      "No tags for ambiguous start and end, but len % 3 != 0\n",
      "ENST00000434431 has an ambiguous start and end.Skip!\n",
      "seq.mismatch: ENST00000640958\n",
      "M I 0/713\n",
      "Ambiguous start and end!\n",
      "ENST00000490594 has an ambiguous start and end.Skip!\n",
      "seq.mismatch: ENST00000638727\n",
      "M L 0/397\n",
      "seq.mismatch: ENST00000640105\n",
      "M L 0/434\n",
      "seq.mismatch: ENST00000640797\n",
      "M L 0/607\n",
      "seq.mismatch: ENST00000640433\n",
      "M L 0/643\n",
      "Ambiguous start and end!\n",
      "ENST00000418776 has an ambiguous start and end.Skip!\n",
      "seq.mismatch: ENST00000639474\n",
      "M L 0/258\n",
      "seq.mismatch: ENST00000639640\n",
      "M L 0/746\n",
      "seq.mismatch: ENST00000639195\n",
      "M L 0/754\n",
      "seq.mismatch: ENST00000614010\n",
      "M L 0/288\n",
      "seq.mismatch: ENST00000638299\n",
      "M L 0/41\n",
      "seq.mismatch: ENST00000620031\n",
      "M L 0/190\n",
      "seq.mismatch: ENST00000611736\n",
      "M L 0/412\n",
      "seq.mismatch: ENST00000621747\n",
      "M L 0/371\n",
      "seq.mismatch: ENST00000617771\n",
      "M L 0/371\n",
      "seq.mismatch: ENST00000640653\n",
      "M L 0/389\n",
      "seq.mismatch: ENST00000615393\n",
      "M L 0/327\n",
      "seq.mismatch: ENST00000640482\n",
      "M L 0/354\n",
      "seq.mismatch: ENST00000640499\n",
      "M L 0/395\n",
      "Ambiguous start and end!\n",
      "ENST00000467125 has an ambiguous start and end.Skip!\n",
      "Ambiguous start and end!\n",
      "ENST00000514917 has an ambiguous start and end.Skip!\n",
      "seq.mismatch: ENST00000614186\n",
      "M V 0/355\n",
      "seq.mismatch: ENST00000638686\n",
      "M T 0/765\n",
      "seq.mismatch: ENST00000613283\n",
      "M L 0/454\n",
      "No tags for ambiguous start and end, but len % 3 != 0\n",
      "ENST00000379471 has an ambiguous start and end.Skip!\n",
      "No tags for ambiguous start and end, but len % 3 != 0\n",
      "ENST00000373865 has an ambiguous start and end.Skip!\n",
      "seq.mismatch: ENST00000634710\n",
      "M L 0/628\n",
      "seq.mismatch: ENST00000640650\n",
      "M V 0/907\n",
      "seq.mismatch: ENST00000638666\n",
      "M I 0/426\n",
      "Ambiguous start and end!\n",
      "ENST00000529411 has an ambiguous start and end.Skip!\n",
      "No tags for ambiguous start and end, but len % 3 != 0\n",
      "ENST00000528511 has an ambiguous start and end.Skip!\n",
      "Ambiguous start and end!\n",
      "ENST00000424466 has an ambiguous start and end.Skip!\n",
      "Ambiguous start and end!\n",
      "ENST00000548861 has an ambiguous start and end.Skip!\n",
      "Ambiguous start and end!\n",
      "ENST00000546840 has an ambiguous start and end.Skip!\n",
      "seq.mismatch: ENST00000640289\n",
      "M L 0/365\n",
      "Ambiguous start and end!\n",
      "ENST00000558325 has an ambiguous start and end.Skip!\n",
      "seq.mismatch: ENST00000329610\n",
      "M L 0/165\n",
      "Ambiguous start and end!\n",
      "ENST00000570054 has an ambiguous start and end.Skip!\n",
      "seq.mismatch: ENST00000534862\n",
      "M L 0/526\n",
      "seq.mismatch: ENST00000639405\n",
      "M L 0/525\n",
      "No tags for ambiguous start and end, but len % 3 != 0\n",
      "ENST00000618610 has an ambiguous start and end.Skip!\n",
      "No tags for ambiguous start and end, but len % 3 != 0\n",
      "ENST00000620410 has an ambiguous start and end.Skip!\n",
      "Ambiguous start and end!\n",
      "ENST00000467211 has an ambiguous start and end.Skip!\n",
      "Ambiguous start and end!\n",
      "ENST00000586349 has an ambiguous start and end.Skip!\n",
      "Ambiguous start and end!\n",
      "ENST00000597961 has an ambiguous start and end.Skip!\n",
      "Ambiguous start and end!\n",
      "ENST00000592740 has an ambiguous start and end.Skip!\n",
      "Ambiguous start and end!\n",
      "ENST00000594769 has an ambiguous start and end.Skip!\n",
      "Ambiguous start and end!\n",
      "ENST00000594374 has an ambiguous start and end.Skip!\n",
      "seq.mismatch: ENST00000638874\n",
      "M L 0/425\n",
      "seq.mismatch: ENST00000640332\n",
      "M L 0/729\n",
      "seq.mismatch: ENST00000640668\n",
      "M L 0/731\n",
      "seq.mismatch: ENST00000640136\n",
      "M L 0/500\n",
      "\n"
     ]
    }
   ],
   "source": [
    "div3_error = 0\n",
    "seq_mismatch_err = 0\n",
    "err_transcripts = []\n",
    "for transcript_id in tqdm(gps.transcripts):\n",
    "    # make sure all ids can be found in the proteome\n",
    "    dna_seq = gps.get_seq(transcript_id)\n",
    "    if dna_seq == \"XXX\":\n",
    "        print(f\"{transcript_id} has an ambiguous start and end.Skip!\")\n",
    "        continue\n",
    "    # dna_seq = dna_seq[:(len(dna_seq) // 3) * 3]\n",
    "    #if len(dna_seq) % 3 != 0:\n",
    "     #   div3_error += 1\n",
    "      #  print(\"len(dna_seq) % 3 != 0: {}\".format(transcript_id))\n",
    "       # err_transcripts.append({\"transcript_id\": transcript_id, \"div3_err\": True})\n",
    "        #continue\n",
    "    if len(dna_seq)%3 != 0:\n",
    "        print(transcript_id)\n",
    "        continue\n",
    "    prot_seq = translate(dna_seq,hg38=True)\n",
    "    if dfp.loc[transcript_id].seq != prot_seq:\n",
    "        seq_mismatch_err += 1\n",
    "        print(\"seq.mismatch: {}\".format(transcript_id))\n",
    "        n_mismatch = 0\n",
    "        for i in range(len(prot_seq)):\n",
    "            a = dfp.loc[transcript_id].seq[i]\n",
    "            b = prot_seq[i]\n",
    "            if a != b:\n",
    "                n_mismatch += 1\n",
    "                print(\"{} {} {}/{}\".format(a,b,i,len(prot_seq)))\n",
    "        err_transcripts.append({\"transcript_id\": transcript_id, \"div3_err\": False,\n",
    "                            \"n-seq-mismatch\": n_mismatch})\n",
    "        # print(\"prot:\", dfp.loc[transcript_id].seq)\n",
    "        # print(\"seq: \", prot_seq)\n",
    "err_transcripts = pd.DataFrame(err_transcripts)"
   ]
  },
  {
   "cell_type": "code",
   "execution_count": null,
   "metadata": {},
   "outputs": [],
   "source": [
    "dna_seq = gps.get_seq(\"ENST00000467125\")\n",
    "print((dna_seq[:]))"
   ]
  },
  {
   "cell_type": "code",
   "execution_count": null,
   "metadata": {},
   "outputs": [],
   "source": []
  },
  {
   "cell_type": "code",
   "execution_count": null,
   "metadata": {},
   "outputs": [],
   "source": []
  },
  {
   "cell_type": "code",
   "execution_count": null,
   "metadata": {},
   "outputs": [],
   "source": []
  },
  {
   "cell_type": "code",
   "execution_count": null,
   "metadata": {},
   "outputs": [],
   "source": []
  },
  {
   "cell_type": "code",
   "execution_count": null,
   "metadata": {},
   "outputs": [],
   "source": [
    "k = \"dobre\"\n",
    "print(k[-3:])\n",
    "print(k[:-3])"
   ]
  },
  {
   "cell_type": "code",
   "execution_count": null,
   "metadata": {},
   "outputs": [],
   "source": [
    "len(gps)"
   ]
  },
  {
   "cell_type": "code",
   "execution_count": null,
   "metadata": {},
   "outputs": [],
   "source": [
    "len(dfp)"
   ]
  },
  {
   "cell_type": "code",
   "execution_count": null,
   "metadata": {},
   "outputs": [],
   "source": []
  }
 ],
 "metadata": {
  "kernelspec": {
   "display_name": "Python [conda env:3-2018.12-brechtmann]",
   "language": "python",
   "name": "conda-env-3-2018.12-brechtmann-py"
  },
  "language_info": {
   "codemirror_mode": {
    "name": "ipython",
    "version": 3
   },
   "file_extension": ".py",
   "mimetype": "text/x-python",
   "name": "python",
   "nbconvert_exporter": "python",
   "pygments_lexer": "ipython3",
   "version": "3.7.3"
  }
 },
 "nbformat": 4,
 "nbformat_minor": 4
}
